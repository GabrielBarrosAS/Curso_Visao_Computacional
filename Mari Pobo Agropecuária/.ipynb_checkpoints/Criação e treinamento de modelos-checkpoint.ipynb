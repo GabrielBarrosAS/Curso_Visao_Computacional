{
 "cells": [
  {
   "cell_type": "code",
   "execution_count": null,
   "id": "6430a04e",
   "metadata": {},
   "outputs": [],
   "source": [
    "#CARREGAR OS DADOS FORMATADOS NO PADRÃO .NPZ\n",
    "def load_data_training_and_test(dataset_name):\n",
    "    \n",
    "#CARREGAR OS DADOS FORMATADOS NO PADRÃO .NPZ"
   ]
  },
  {
   "cell_type": "code",
   "execution_count": null,
   "id": "5c2dfb53",
   "metadata": {},
   "outputs": [],
   "source": [
    "#CONFIGURANDO TIPOS E FORMAS PARA O SHAPE ESPERADO\n",
    "(x_train,y_train), (x_test,y_test) = load_data_training_and_test(\"acerolas\")\n",
    "\n",
    "x_train = x_train.astype('float32')\n",
    "x_test = x_test.astype('float32')\n",
    "x_train /= 255\n",
    "x_test /= 255\n",
    "\n",
    "quantidade_de_classes_classificação = 8 #7 ESTÁGIOS DE ACEROLA E A CLASSE NÃO ACEROLA\n",
    "\n",
    "y_train = keras.utils.to_categorical(y_train,quantidade_de_classes_classificação)\n",
    "y_test = keras.utils.to_categorical(y_test,quantidade_de_classes_classificação)\n",
    "#CONFIGURANDO TIPOS E FORMAS PARA O SHAPE ESPERADO"
   ]
  },
  {
   "cell_type": "code",
   "execution_count": null,
   "id": "037338cf",
   "metadata": {},
   "outputs": [],
   "source": [
    "#PARÂMETROS VARIÁVEIS DO MODELO\n",
    "batch_size = 1\n",
    "epochs = 10\n",
    "learning_rate = 0.001\n",
    "input_shape = (x_train[0].shape[0],x_train[1].shape[0],3)\n",
    "#PARÂMETROS VARIÁVEIS DO MODELO"
   ]
  },
  {
   "cell_type": "code",
   "execution_count": null,
   "id": "88046257",
   "metadata": {},
   "outputs": [],
   "source": [
    "#CRIAÇÃO DA REDE NEURAL\n",
    "#CRIAÇÃO DA REDE NEURAL"
   ]
  },
  {
   "cell_type": "code",
   "execution_count": null,
   "id": "8be90765",
   "metadata": {},
   "outputs": [],
   "source": [
    "#COMPILANDO O MODEL\n",
    "#VERIFICAR A NECESSIDADE DE UMA NOVA MÉTRICA DE AVALIAÇÃO\n",
    "model.compile(loss = 'categorical_crossentropy',\n",
    "             optimizer='adam',\n",
    "             metrics = ['accuracy'])\n",
    "#COMPILANDO O MODELO"
   ]
  },
  {
   "cell_type": "code",
   "execution_count": 24,
   "id": "c5a902f6",
   "metadata": {},
   "outputs": [],
   "source": [
    "from os import listdir\n",
    "from os.path import isfile,isdir, join\n",
    "import os\n",
    "\n",
    "mypath = \"./Modelos_Salvos/\"\n",
    "file_names = [f for f in listdir(mypath) if isdir(join(mypath,f))]\n",
    "contador = len(file_names) - 1\n",
    "\n",
    "os.makedirs(\"./Modelos_Salvos/Model_\" + str(contador))\n",
    "\n",
    "mypath = \"\\Modelos_Salvos/Model_\" + str(contador)"
   ]
  },
  {
   "cell_type": "code",
   "execution_count": 8,
   "id": "7ae63a8f",
   "metadata": {},
   "outputs": [
    {
     "ename": "NameError",
     "evalue": "name 'model' is not defined",
     "output_type": "error",
     "traceback": [
      "\u001b[1;31m------------------------------------------------------------------\u001b[0m",
      "\u001b[1;31mNameError\u001b[0m                        Traceback (most recent call last)",
      "\u001b[1;32m~\\AppData\\Local\\Temp/ipykernel_3500/4230636343.py\u001b[0m in \u001b[0;36m<module>\u001b[1;34m\u001b[0m\n\u001b[0;32m      1\u001b[0m \u001b[1;31m#TREINANDO O MODELO\u001b[0m\u001b[1;33m\u001b[0m\u001b[1;33m\u001b[0m\u001b[1;33m\u001b[0m\u001b[0m\n\u001b[1;32m----> 2\u001b[1;33m history = model.fit(x_train,y_train,\n\u001b[0m\u001b[0;32m      3\u001b[0m             \u001b[0mbatch_size\u001b[0m\u001b[1;33m=\u001b[0m\u001b[0mbatch_size\u001b[0m\u001b[1;33m,\u001b[0m\u001b[1;33m\u001b[0m\u001b[1;33m\u001b[0m\u001b[0m\n\u001b[0;32m      4\u001b[0m             \u001b[0mepochs\u001b[0m\u001b[1;33m=\u001b[0m\u001b[0mepochs\u001b[0m\u001b[1;33m,\u001b[0m\u001b[1;33m\u001b[0m\u001b[1;33m\u001b[0m\u001b[0m\n\u001b[0;32m      5\u001b[0m             \u001b[0mvalidation_data\u001b[0m\u001b[1;33m=\u001b[0m\u001b[1;33m(\u001b[0m\u001b[0mx_test\u001b[0m\u001b[1;33m,\u001b[0m\u001b[0my_test\u001b[0m\u001b[1;33m)\u001b[0m\u001b[1;33m,\u001b[0m\u001b[1;33m\u001b[0m\u001b[1;33m\u001b[0m\u001b[0m\n",
      "\u001b[1;31mNameError\u001b[0m: name 'model' is not defined"
     ]
    }
   ],
   "source": [
    "#DEFININDO O AUTO_SAVE DO MELHOR MODELO TREINANDO O MODELO\n",
    "from tensorflow.keras.callbacks import ModelCheckpoint\n",
    "checkpoint = ModelCheckpoint(\"C:\\Users\\gabri\\Curso_Visao_Computacional\\Mari Pobo Agropecuária\" + mypath + \"\\best_model.h5\",\n",
    "                                monitor='val_accuracy', verbose=0,\n",
    "                                save_best_only=True, mode='max', save_freq=\"epoch\")\n",
    "\n",
    "history = model.fit(x_train,y_train,\n",
    "            batch_size=batch_size,\n",
    "            epochs=epochs,\n",
    "            validation_data=(x_test,y_test),\n",
    "            shuffle=True,\n",
    "            callbacks=[checkpoint])\n",
    "#TREINANDO O MODELO"
   ]
  },
  {
   "cell_type": "code",
   "execution_count": null,
   "id": "906b1cda",
   "metadata": {},
   "outputs": [],
   "source": [
    "#Costruindo um gráfico que mostra as perdas de treino e test ao decorrer das epocas\n",
    "import matplotlib.pyplot as plt\n",
    "\n",
    "history_dict = history.history\n",
    "loss_values = history_dict['loss']\n",
    "val_loss_values = history_dict['val_loss']\n",
    "epochs = range(1,len(loss_values)+1)\n",
    "#ver esses dados acima\n",
    "\n",
    "line1 = plt.plot(epochs,val_loss_values,label='Validation/Test Loss')\n",
    "line2 = plt.plot(epochs,loss_values,label='Training Loss')\n",
    "plt.setp(line1,linewidth=2.0,marker = '+',markersize=10.0)\n",
    "plt.setp(line2,linewidth=2.0,marker = '4',markersize=10.0)\n",
    "plt.xlabel('Epochs')\n",
    "plt.ylabel('Loss')\n",
    "plt.grid(True)\n",
    "plt.legend()\n",
    "plt.savefig(\"C:\\Users\\gabri\\Curso_Visao_Computacional\\Mari Pobo Agropecuária\" + mypath + \"\\Gráfico_Perdas.png\")\n",
    "plt.show()"
   ]
  },
  {
   "cell_type": "code",
   "execution_count": null,
   "id": "dcc332fa",
   "metadata": {},
   "outputs": [],
   "source": [
    "#Precisão de treino e test ao decorrer das epocas\n",
    "import matplotlib.pyplot as plt\n",
    "\n",
    "history_dict = history.history\n",
    "acc_values = history_dict['accuracy']\n",
    "val_acc_values = history_dict['val_accuracy']\n",
    "epochs = range(1,len(loss_values)+1)\n",
    "#ver esses dados acima\n",
    "\n",
    "line1 = plt.plot(epochs,val_acc_values,label='Validation/Test Accuracy')\n",
    "line2 = plt.plot(epochs,acc_values,label='Training Accuracy')\n",
    "plt.setp(line1,linewidth=2.0,marker = '+',markersize=10.0)\n",
    "plt.setp(line2,linewidth=2.0,marker = '4',markersize=10.0)\n",
    "plt.xlabel('Epochs')\n",
    "plt.ylabel('Accuracy')\n",
    "plt.grid(True)\n",
    "plt.legend()\n",
    "plt.savefig(\"C:\\Users\\gabri\\Curso_Visao_Computacional\\Mari Pobo Agropecuária\" + mypath + \"\\Gráfico_Accuracy.png\")\n",
    "plt.show()"
   ]
  },
  {
   "cell_type": "code",
   "execution_count": null,
   "id": "b3ebf4e9",
   "metadata": {},
   "outputs": [],
   "source": [
    "#CRIANDO A IMAGEM QUE DESCREVE A ESTRUTURA E FORMA DO MODELO\n",
    "from tensorflow.keras.utils import plot_model\n",
    "import matplotlib.pyplot as plt\n",
    "import matplotlib.image as mpimg\n",
    "model_diagrams_path = \"C:\\Users\\gabri\\Curso_Visao_Computacional\\Mari Pobo Agropecuária\" + mypath\n",
    "\n",
    "plot_model(model,to_file = model_diagrams_path+'\\model_shape.png',\n",
    "          show_shapes = True,\n",
    "          show_layer_names = True)\n",
    "\n",
    "img = mpimg.imread(model_diagrams_path+'\\model_shape.png')\n",
    "plt.figure(figsize=(30,15))\n",
    "imgplot = plt.imshow(img)"
   ]
  },
  {
   "cell_type": "code",
   "execution_count": null,
   "id": "bcab206a",
   "metadata": {},
   "outputs": [],
   "source": []
  },
  {
   "cell_type": "code",
   "execution_count": null,
   "id": "3078c079",
   "metadata": {},
   "outputs": [],
   "source": []
  },
  {
   "cell_type": "code",
   "execution_count": null,
   "id": "9fc45818",
   "metadata": {},
   "outputs": [],
   "source": []
  }
 ],
 "metadata": {
  "kernelspec": {
   "display_name": "Python 3 (ipykernel)",
   "language": "python",
   "name": "python3"
  },
  "language_info": {
   "codemirror_mode": {
    "name": "ipython",
    "version": 3
   },
   "file_extension": ".py",
   "mimetype": "text/x-python",
   "name": "python",
   "nbconvert_exporter": "python",
   "pygments_lexer": "ipython3",
   "version": "3.8.10"
  }
 },
 "nbformat": 4,
 "nbformat_minor": 5
}
