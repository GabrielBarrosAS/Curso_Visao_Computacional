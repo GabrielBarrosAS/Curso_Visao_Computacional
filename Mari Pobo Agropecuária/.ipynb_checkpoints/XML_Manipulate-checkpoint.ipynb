{
 "cells": [
  {
   "cell_type": "code",
   "execution_count": 42,
   "id": "1c2bbbf3",
   "metadata": {
    "slideshow": {
     "slide_type": "subslide"
    }
   },
   "outputs": [],
   "source": [
    "class Marcacoes:\n",
    "    def __init__(self, nome, xmin, xmax, ymin, ymax):\n",
    "        self.nome = nome\n",
    "        self.xmin = xmin\n",
    "        self.xmax = xmax\n",
    "        self.ymin = ymin\n",
    "        self.ymax = ymax\n",
    "    \n",
    "    def status(self):\n",
    "        print('NAME: ' + self.nome.upper())\n",
    "        print('xmin: ' + str(self.xmin))\n",
    "        print('ymin: ' + str(self.ymin))\n",
    "        print('xmax: ' + str(self.xmax))\n",
    "        print('ymax: ' + str(self.ymax))"
   ]
  },
  {
   "cell_type": "code",
   "execution_count": 17,
   "id": "1368eba5",
   "metadata": {},
   "outputs": [],
   "source": [
    "import os\n",
    "import xml.etree.ElementTree as ET\n",
    "\n",
    "listaDeAcerolaECartoes = []\n",
    "\n",
    "caminhoMarcacaoXML = \"./4_marcação_de_posição/\"\n",
    "\n",
    "for root,subFolder,files in os.walk(caminhoMarcacaoXML):\n",
    "    for i,file in enumerate(files):\n",
    "        \n",
    "        tree =  ET.parse(caminhoMarcacaoXML+file)\n",
    "        root = tree.getroot()\n",
    "        \n",
    "        for j,obj in enumerate(root.findall('object')):\n",
    "            for propriedades in obj:\n",
    "                if(propriedades.tag == \"bndbox\"):\n",
    "                    \n",
    "                    if(j > 5):\n",
    "                        nome = \"cartao_\" + str(i+1)\n",
    "                    else:\n",
    "                        nome = \"acerola_\" + str(i+1) + \"_\" + str(j)\n",
    "\n",
    "                    xmin = xmax = ymin = ymax = 0\n",
    "                    \n",
    "                    for posicao in propriedades:\n",
    "                        if(posicao.tag == 'xmin'):\n",
    "                            xmin = posicao.text\n",
    "                        elif(posicao.tag == 'xmax'):\n",
    "                            xmax = posicao.text\n",
    "                        elif(posicao.tag == 'ymin'):\n",
    "                            ymin = posicao.text\n",
    "                        else:\n",
    "                            ymax = posicao.text\n",
    "                                \n",
    "                    listaDeAcerolaECartoes.append(Marcacoes(nome, int(xmin), int(xmax), int(ymin), int(ymax))\n",
    "                    \n",
    "#for i in range(len(listaDeAcerolaECartoes)):\n",
    "    #listaDeAcerolaECartoes[i].status()\n",
    "print(\"Desserialização concluída\")\n",
    "print(len(listaDePosicoesAcerola))\n",
    "print(\"(Acerolas) 6 x 30 (imagens) = 180 (registros)\")\n",
    "print(\"(Cartao) 1 x 30 (imagens) = 30 (registros)\")"
   ]
  },
  {
   "cell_type": "code",
   "execution_count": 46,
   "id": "b5094aa9",
   "metadata": {},
   "outputs": [
    {
     "ename": "TypeError",
     "evalue": "unsupported operand type(s) for -: 'str' and 'str'",
     "output_type": "error",
     "traceback": [
      "\u001b[1;31m------------------------------------------------------------------\u001b[0m",
      "\u001b[1;31mTypeError\u001b[0m                        Traceback (most recent call last)",
      "\u001b[1;32m~\\AppData\\Local\\Temp/ipykernel_11052/2029691985.py\u001b[0m in \u001b[0;36m<module>\u001b[1;34m\u001b[0m\n\u001b[0;32m     11\u001b[0m \u001b[1;33m\u001b[0m\u001b[0m\n\u001b[0;32m     12\u001b[0m \u001b[1;32mfor\u001b[0m \u001b[0mi\u001b[0m \u001b[1;32min\u001b[0m \u001b[0mlistaMarcacaoCartao\u001b[0m\u001b[1;33m:\u001b[0m\u001b[1;33m\u001b[0m\u001b[1;33m\u001b[0m\u001b[0m\n\u001b[1;32m---> 13\u001b[1;33m     \u001b[0mescalaCartaoAltura\u001b[0m \u001b[1;33m=\u001b[0m \u001b[0mi\u001b[0m\u001b[1;33m.\u001b[0m\u001b[0mymax\u001b[0m \u001b[1;33m-\u001b[0m \u001b[0mi\u001b[0m\u001b[1;33m.\u001b[0m\u001b[0mymin\u001b[0m\u001b[1;33m\u001b[0m\u001b[1;33m\u001b[0m\u001b[0m\n\u001b[0m\u001b[0;32m     14\u001b[0m     \u001b[0mescalaCartaoLargura\u001b[0m \u001b[1;33m=\u001b[0m \u001b[0mx\u001b[0m\u001b[1;33m.\u001b[0m\u001b[0mymax\u001b[0m \u001b[1;33m-\u001b[0m \u001b[0mx\u001b[0m\u001b[1;33m.\u001b[0m\u001b[0mymin\u001b[0m\u001b[1;33m\u001b[0m\u001b[1;33m\u001b[0m\u001b[0m\n\u001b[0;32m     15\u001b[0m \u001b[1;33m\u001b[0m\u001b[0m\n",
      "\u001b[1;31mTypeError\u001b[0m: unsupported operand type(s) for -: 'str' and 'str'"
     ]
    }
   ],
   "source": [
    "listaMarcacaoAcerola = []\n",
    "listaMarcacaoCartao = []\n",
    "alturaReal = 54\n",
    "larguraReal = 85\n",
    "\n",
    "for i in listaDePosicoesAcerola:\n",
    "    if(i.nome[0] == 'a'):\n",
    "        listaMarcacaoAcerola.append(i)\n",
    "    else:\n",
    "        listaMarcacaoCartao.append(i)\n",
    "        \n",
    "for i in listaMarcacaoCartao:\n",
    "    escalaCartaoAltura = i.ymax - i.ymin\n",
    "    escalaCartaoLargura = x.ymax - x.ymin\n",
    "    \n",
    "    for j in range(i*5):\n",
    "        print(j)\n",
    "        "
   ]
  },
  {
   "cell_type": "code",
   "execution_count": 127,
   "id": "52a63380",
   "metadata": {},
   "outputs": [
    {
     "name": "stdout",
     "output_type": "stream",
     "text": [
      "====================================\n",
      "tomate\n",
      "ALTURA: 73.26007326007326\n",
      "LARGURA: 72.49406175771972\n",
      "====================================\n",
      "cebola\n",
      "ALTURA: 72.52747252747253\n",
      "LARGURA: 78.38479809976248\n",
      "====================================\n",
      "bloco_notas\n",
      "ALTURA: 73.62637362637362\n",
      "LARGURA: 57.86223277909739\n",
      "====================================\n",
      "tampa\n",
      "ALTURA: 41.57509157509158\n",
      "LARGURA: 44.75059382422803\n",
      "====================================\n",
      "tampa\n",
      "ALTURA: 30.128205128205128\n",
      "LARGURA: 31.258907363420427\n",
      "====================================\n",
      "tampa\n",
      "ALTURA: 30.86080586080586\n",
      "LARGURA: 29.263657957244657\n",
      "====================================\n",
      "moeda\n",
      "ALTURA: 20.97069597069597\n",
      "LARGURA: 22.137767220902614\n",
      "====================================\n",
      "moeda\n",
      "ALTURA: 22.893772893772894\n",
      "LARGURA: 24.513064133016627\n",
      "====================================\n",
      "moeda\n",
      "ALTURA: 19.047619047619047\n",
      "LARGURA: 19.762470308788597\n",
      "====================================\n",
      "moeda\n",
      "ALTURA: 20.146520146520146\n",
      "LARGURA: 20.997624703087887\n",
      "====================================\n",
      "carro\n",
      "ALTURA: 66.75824175824175\n",
      "LARGURA: 36.8646080760095\n",
      "====================================\n",
      "obj_referencia\n",
      "ALTURA: 50.0\n",
      "LARGURA: 80.0\n"
     ]
    }
   ],
   "source": [
    "for i in objetos:\n",
    "    largura_auxiliar = i.coordenadas['xmax'] - i.coordenadas['xmin']\n",
    "    altura_auxiliar = i.coordenadas['ymax'] - i.coordenadas['ymin']\n",
    "    \n",
    "    largura_escala_real = largura_auxiliar*largura_real/largura_pixels\n",
    "    altura_escala_real = altura_auxiliar*altura_real/altura_pixels\n",
    "    #altura_pixels        altura_real = 50\n",
    "    #altura_auxiliar      X\n",
    "    \n",
    "    #largura_pixels       largura_real = 80\n",
    "    #largura_auxiliar     X\n",
    "    print('====================================')\n",
    "    print(i.name)\n",
    "    print('ALTURA: ' + str(altura_escala_real))\n",
    "    print('LARGURA: ' + str(largura_escala_real))"
   ]
  },
  {
   "cell_type": "code",
   "execution_count": 29,
   "id": "ba8029f5",
   "metadata": {},
   "outputs": [],
   "source": [
    "class AcerolaReal:\n",
    "    def __init__(self, nome, altura, largura):\n",
    "        self.nome = nome\n",
    "        self.altura = altura\n",
    "        self.largura = largura\n",
    "    \n",
    "    def status(self):\n",
    "        print('====================================')\n",
    "        print(\"NOME: \" + self.nome)\n",
    "        print(\"ALTURA: \" + self.altura)\n",
    "        print(\"LARGURA: \" + self.largura)"
   ]
  },
  {
   "cell_type": "code",
   "execution_count": 35,
   "id": "d8648574",
   "metadata": {},
   "outputs": [
    {
     "name": "stdout",
     "output_type": "stream",
     "text": [
      "4 arquivos carregados\n",
      "['imagem_1.txt', 'imagem_10.txt', 'imagem_2.txt', 'imagem_3.txt']\n"
     ]
    },
    {
     "ename": "IndexError",
     "evalue": "list index out of range",
     "output_type": "error",
     "traceback": [
      "\u001b[1;31m------------------------------------------------------------------\u001b[0m",
      "\u001b[1;31mIndexError\u001b[0m                       Traceback (most recent call last)",
      "\u001b[1;32m~\\AppData\\Local\\Temp/ipykernel_9268/2239960974.py\u001b[0m in \u001b[0;36m<module>\u001b[1;34m\u001b[0m\n\u001b[0;32m     18\u001b[0m             \u001b[0mlabelLargura\u001b[0m \u001b[1;33m=\u001b[0m \u001b[0mfiles\u001b[0m\u001b[1;33m.\u001b[0m\u001b[0mreadline\u001b[0m\u001b[1;33m(\u001b[0m\u001b[1;33m)\u001b[0m\u001b[1;33m.\u001b[0m\u001b[0msplitlines\u001b[0m\u001b[1;33m(\u001b[0m\u001b[1;33m)\u001b[0m\u001b[1;33m\u001b[0m\u001b[1;33m\u001b[0m\u001b[0m\n\u001b[0;32m     19\u001b[0m             \u001b[0mlargura\u001b[0m \u001b[1;33m=\u001b[0m \u001b[0mfiles\u001b[0m\u001b[1;33m.\u001b[0m\u001b[0mreadline\u001b[0m\u001b[1;33m(\u001b[0m\u001b[1;33m)\u001b[0m\u001b[1;33m.\u001b[0m\u001b[0msplitlines\u001b[0m\u001b[1;33m(\u001b[0m\u001b[1;33m)\u001b[0m\u001b[1;33m\u001b[0m\u001b[1;33m\u001b[0m\u001b[0m\n\u001b[1;32m---> 20\u001b[1;33m             \u001b[0mmedidasReais\u001b[0m\u001b[1;33m.\u001b[0m\u001b[0mappend\u001b[0m\u001b[1;33m(\u001b[0m\u001b[0mAcerolaReal\u001b[0m\u001b[1;33m(\u001b[0m\u001b[0mnome\u001b[0m\u001b[1;33m[\u001b[0m\u001b[1;36m0\u001b[0m\u001b[1;33m]\u001b[0m\u001b[1;33m,\u001b[0m\u001b[0maltura\u001b[0m\u001b[1;33m[\u001b[0m\u001b[1;36m0\u001b[0m\u001b[1;33m]\u001b[0m\u001b[1;33m,\u001b[0m\u001b[0mlargura\u001b[0m\u001b[1;33m[\u001b[0m\u001b[1;36m0\u001b[0m\u001b[1;33m]\u001b[0m\u001b[1;33m)\u001b[0m\u001b[1;33m)\u001b[0m\u001b[1;33m\u001b[0m\u001b[1;33m\u001b[0m\u001b[0m\n\u001b[0m\u001b[0;32m     21\u001b[0m \u001b[1;33m\u001b[0m\u001b[0m\n\u001b[0;32m     22\u001b[0m \u001b[1;33m\u001b[0m\u001b[0m\n",
      "\u001b[1;31mIndexError\u001b[0m: list index out of range"
     ]
    }
   ],
   "source": [
    "from os import listdir\n",
    "from os.path import isfile, join\n",
    "\n",
    "caminhoMedidasReais = \"./5_medidas_reais/\"\n",
    "\n",
    "file_names = [f for f in listdir(mypath) if isfile(join(mypath,f))]\n",
    "\n",
    "print(str(len(file_names))+' arquivos carregados')\n",
    "\n",
    "medidasReais = []\n",
    "\n",
    "for i in file_names:\n",
    "    with open(caminhoMedidasReais+i,'r') as files:\n",
    "        for j in range(6):\n",
    "            nome = files.readline().splitlines() \n",
    "            labelAltura = files.readline().splitlines() \n",
    "            altura = files.readline().splitlines() \n",
    "            labelLargura = files.readline().splitlines() \n",
    "            largura = files.readline().splitlines()\n",
    "            medidasReais.append(AcerolaReal(nome[0],altura[0],largura[0]))\n",
    "\n",
    "            "
   ]
  },
  {
   "cell_type": "code",
   "execution_count": null,
   "id": "6036e805",
   "metadata": {},
   "outputs": [],
   "source": [
    "\"\"\"import os\n",
    "\n",
    "caminhoMarcacaoXML = \"./4_marcação_de_posição/\"\n",
    "\n",
    "for root,subFolder,files in os.walk(caminhoMarcacaoXML):\n",
    "    for j,uniqueFile in enumerate(files):\n",
    "        if(len(uniqueFile) == 13):\n",
    "            print(uniqueFile)\n",
    "            print(uniqueFile[:8]+'0'+uniqueFile[8:])\n",
    "            os.rename(caminhoMarcacaoXML+uniqueFile,caminhoMarcacaoXML+uniqueFile[:8]+'0'+uniqueFile[8:])\"\"\""
   ]
  }
 ],
 "metadata": {
  "kernelspec": {
   "display_name": "Python 3 (ipykernel)",
   "language": "python",
   "name": "python3"
  },
  "language_info": {
   "codemirror_mode": {
    "name": "ipython",
    "version": 3
   },
   "file_extension": ".py",
   "mimetype": "text/x-python",
   "name": "python",
   "nbconvert_exporter": "python",
   "pygments_lexer": "ipython3",
   "version": "3.8.10"
  }
 },
 "nbformat": 4,
 "nbformat_minor": 5
}
