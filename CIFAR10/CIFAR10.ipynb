{
 "cells": [
  {
   "cell_type": "code",
   "execution_count": 3,
   "id": "8b8e76ce",
   "metadata": {},
   "outputs": [
    {
     "name": "stdout",
     "output_type": "stream",
     "text": [
      "x_train shape: (50000, 32, 32, 3)\n",
      "50000 train samples\n",
      "10000 test samples\n",
      "x_train shape:2 (50000, 32, 32, 3)\n",
      "50000 train samples2\n",
      "10000 test samples2\n"
     ]
    }
   ],
   "source": [
    "from __future__ import print_function\n",
    "\n",
    "from tensorflow import keras\n",
    "from tensorflow.keras.datasets import cifar10\n",
    "from tensorflow.keras.preprocessing.image import ImageDataGenerator\n",
    "from tensorflow.keras.models import Sequential\n",
    "from tensorflow.keras.layers import Dense, Dropout, Activation, Flatten\n",
    "from tensorflow.keras.layers import Conv2D, MaxPooling2D\n",
    "from tensorflow.keras.models import load_model\n",
    "import os\n",
    "\n",
    "batch_size = 10\n",
    "num_classes = 10\n",
    "epochs = 5\n",
    "\n",
    "(x_train,y_train), (x_test,y_test) = cifar10.load_data()\n",
    "\n",
    "print('x_train shape:',x_train.shape)\n",
    "print(x_train.shape[0],'train samples')\n",
    "print(x_test.shape[0],'test samples')\n",
    "\n",
    "x_train = x_train.astype('float32')\n",
    "x_test = x_test.astype('float32')\n",
    "x_train /= 255\n",
    "x_test /= 255\n",
    "\n",
    "y_train = keras.utils.to_categorical(y_train,num_classes) #keras.utils.to_categorical(y_train,num_classes)\n",
    "y_test = keras.utils.to_categorical(y_test,num_classes)   #keras.utils.to_categorical(y_test,num_classes)\n",
    "\n",
    "model = keras.Sequential()\n",
    "\n",
    "model.add(Conv2D(32, (3,3), padding='same',\n",
    "             input_shape=x_train.shape[1:]))\n",
    "model.add(Activation('relu'))\n",
    "model.add(Conv2D(32, (3,3)))\n",
    "model.add(Activation('relu'))\n",
    "model.add(MaxPooling2D(pool_size=(2,2)))\n",
    "model.add(Dropout(0.25))\n",
    "\n",
    "model.add(Conv2D(64, (3,3), padding='same'))\n",
    "model.add(Activation('relu'))\n",
    "model.add(Conv2D(64, (3,3)))\n",
    "model.add(Activation('relu'))\n",
    "model.add(MaxPooling2D(pool_size=(2,2)))\n",
    "model.add(Dropout(0.25))\n",
    "\n",
    "model.add(Flatten())\n",
    "model.add(Dense(512))\n",
    "model.add(Activation('relu'))\n",
    "model.add(Dropout(0.5))\n",
    "model.add(Dense(num_classes))\n",
    "model.add(Activation('softmax'))\n",
    "\n",
    "opt = keras.optimizers.RMSprop(learning_rate=0.0001,decay=1e-6)#keras.optimizers.rmsprop(lr=0.0001,decay=1e-6)\n",
    "\n",
    "model.compile(loss = 'categorical_crossentropy',\n",
    "             optimizer=opt,\n",
    "             metrics = ['accuracy'])\n",
    "\n",
    "print('x_train shape:2',x_train.shape)\n",
    "print(x_train.shape[0],'train samples2')\n",
    "print(x_test.shape[0],'test samples2')\n",
    "\n",
    "#print(model.summary())"
   ]
  },
  {
   "cell_type": "code",
   "execution_count": 4,
   "id": "b81262be",
   "metadata": {},
   "outputs": [
    {
     "name": "stdout",
     "output_type": "stream",
     "text": [
      "Epoch 1/5\n",
      "5000/5000 [==============================] - 321s 63ms/step - loss: 1.7197 - accuracy: 0.3728 - val_loss: 1.3948 - val_accuracy: 0.4989\n",
      "Epoch 2/5\n",
      "5000/5000 [==============================] - 316s 63ms/step - loss: 1.3878 - accuracy: 0.4998 - val_loss: 1.2282 - val_accuracy: 0.5593\n",
      "Epoch 3/5\n",
      "5000/5000 [==============================] - 320s 64ms/step - loss: 1.2436 - accuracy: 0.5570 - val_loss: 1.1016 - val_accuracy: 0.6050\n",
      "Epoch 4/5\n",
      "5000/5000 [==============================] - 315s 63ms/step - loss: 1.1416 - accuracy: 0.5977 - val_loss: 1.0133 - val_accuracy: 0.6403\n",
      "Epoch 5/5\n",
      "5000/5000 [==============================] - 313s 63ms/step - loss: 1.0708 - accuracy: 0.6247 - val_loss: 0.9754 - val_accuracy: 0.6616\n",
      "313/313 [==============================] - 10s 29ms/step - loss: 0.9754 - accuracy: 0.6616\n",
      "Test loss: 0.9753627181053162\n",
      "Test accuracy: 0.6615999937057495\n"
     ]
    }
   ],
   "source": [
    "history = model.fit(x_train,y_train,\n",
    "            batch_size=batch_size,\n",
    "            epochs=epochs,\n",
    "            validation_data=(x_test,y_test),\n",
    "            shuffle=True)\n",
    "\n",
    "model.save(\"C:/Users/gabri/Curso_Visao_Computacional/cifar_simple_cnn_1.h5\")\n",
    "\n",
    "scores = model.evaluate(x_test,y_test,verbose=1)\n",
    "print('Test loss:',scores[0])\n",
    "print('Test accuracy:',scores[1])"
   ]
  },
  {
   "cell_type": "code",
   "execution_count": null,
   "id": "ef9051f0",
   "metadata": {},
   "outputs": [],
   "source": [
    "classifier = load_model('C:/Users/gabri/Curso_Visao_Computacional/cifar_simple_cnn_1.h5')\n",
    "resp = classifier.predict_classes(x_test,1,verbose=0)\n",
    "print(resp[1])\n",
    "print(y_test[0])"
   ]
  },
  {
   "cell_type": "code",
   "execution_count": null,
   "id": "dfcd7a18",
   "metadata": {},
   "outputs": [],
   "source": []
  }
 ],
 "metadata": {
  "kernelspec": {
   "display_name": "Python 3",
   "language": "python",
   "name": "python3"
  },
  "language_info": {
   "codemirror_mode": {
    "name": "ipython",
    "version": 3
   },
   "file_extension": ".py",
   "mimetype": "text/x-python",
   "name": "python",
   "nbconvert_exporter": "python",
   "pygments_lexer": "ipython3",
   "version": "3.8.10"
  }
 },
 "nbformat": 4,
 "nbformat_minor": 5
}
