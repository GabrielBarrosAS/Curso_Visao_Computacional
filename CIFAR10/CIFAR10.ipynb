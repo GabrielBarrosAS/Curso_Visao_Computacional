{
 "cells": [
  {
   "cell_type": "code",
   "execution_count": 31,
   "id": "8b8e76ce",
   "metadata": {},
   "outputs": [
    {
     "name": "stdout",
     "output_type": "stream",
     "text": [
      "x_train shape: (50000, 32, 32, 3)\n",
      "50000 train samples\n",
      "10000 test samples\n"
     ]
    }
   ],
   "source": [
    "from __future__ import print_function\n",
    "\n",
    "from tensorflow import keras\n",
    "from tensorflow.keras.datasets import cifar10\n",
    "from tensorflow.keras.preprocessing.image import ImageDataGenerator\n",
    "from tensorflow.keras.models import Sequential\n",
    "from tensorflow.keras.layers import Dense, Dropout, Activation, Flatten\n",
    "from tensorflow.keras.layers import Conv2D, MaxPooling2D\n",
    "from tensorflow.keras.models import load_model\n",
    "import os\n",
    "\n",
    "batch_size = 32\n",
    "num_classes = 10\n",
    "epochs = 3\n",
    "learning_rate = 0.001\n",
    "\n",
    "(x_train,y_train), (x_test,y_test) = cifar10.load_data()\n",
    "\n",
    "print('x_train shape:',x_train.shape)\n",
    "print(x_train.shape[0],'train samples')\n",
    "print(x_test.shape[0],'test samples')\n",
    "\n",
    "x_train = x_train.astype('float32')\n",
    "x_test = x_test.astype('float32')\n",
    "x_train /= 255\n",
    "x_test /= 255\n",
    "\n",
    "y_train = keras.utils.to_categorical(y_train,num_classes) #keras.utils.to_categorical(y_train,num_classes)\n",
    "y_test = keras.utils.to_categorical(y_test,num_classes)   #keras.utils.to_categorical(y_test,num_classes)\n",
    "\n",
    "model = keras.Sequential()\n",
    "\n",
    "model.add(Conv2D(32,(3,3),activation='relu',\n",
    "                padding='same',\n",
    "                input_shape=x_train.shape[1:]))\n",
    "model.add(Conv2D(32,(3,3),activation='relu'))\n",
    "model.add(MaxPooling2D(pool_size=(2,2)))\n",
    "model.add(Dropout(0.25))\n",
    "\n",
    "model.add(Conv2D(64, (3,3), padding='same',activation='relu'))\n",
    "model.add(Conv2D(64, (3,3),activation='relu'))\n",
    "model.add(MaxPooling2D(pool_size=(2,2)))\n",
    "model.add(Dropout(0.25))\n",
    "\n",
    "model.add(Flatten())\n",
    "model.add(Dense(512))\n",
    "model.add(Activation('relu'))\n",
    "model.add(Dropout(0.5))\n",
    "model.add(Dense(num_classes))\n",
    "model.add(Activation('softmax'))\n",
    "\n",
    "opt = keras.optimizers.RMSprop(learning_rate=learning_rate,decay=1e-6)#keras.optimizers.rmsprop(lr=0.0001,decay=1e-6)\n",
    "\n",
    "model.compile(loss = 'categorical_crossentropy',\n",
    "             optimizer=opt,\n",
    "             metrics = ['accuracy'])\n",
    "#print(model.summary())"
   ]
  },
  {
   "cell_type": "code",
   "execution_count": 32,
   "id": "5bc8b270",
   "metadata": {},
   "outputs": [
    {
     "name": "stdout",
     "output_type": "stream",
     "text": [
      "Epoch 1/3\n",
      "1563/1563 [==============================] - 137s 87ms/step - loss: 1.5721 - accuracy: 0.4270 - val_loss: 1.3108 - val_accuracy: 0.5330\n",
      "Epoch 2/3\n",
      "1563/1563 [==============================] - 144s 92ms/step - loss: 1.1977 - accuracy: 0.5720 - val_loss: 1.0514 - val_accuracy: 0.6268\n",
      "Epoch 3/3\n",
      "1563/1563 [==============================] - 145s 93ms/step - loss: 1.0533 - accuracy: 0.6275 - val_loss: 0.9845 - val_accuracy: 0.6558\n"
     ]
    }
   ],
   "source": [
    "history = model.fit(x_train,y_train,\n",
    "            batch_size=batch_size,\n",
    "            epochs=epochs,\n",
    "            validation_data=(x_test,y_test),\n",
    "            shuffle=True)"
   ]
  },
  {
   "cell_type": "code",
   "execution_count": 29,
   "id": "b81262be",
   "metadata": {},
   "outputs": [],
   "source": [
    "model.save(\"C:/Users/gabri/Curso_Visao_Computacional/CIFAR10/save_models/cifar_\"+str(epochs)+\"_\"+str(batch_size)+\"_\"+str(learning_rate)+\".h5\")"
   ]
  },
  {
   "cell_type": "code",
   "execution_count": 30,
   "id": "ae58d497",
   "metadata": {},
   "outputs": [
    {
     "name": "stdout",
     "output_type": "stream",
     "text": [
      "Modelo carregado epochs 3 batch_size 32 learning_rate 0.001\n",
      "313/313 [==============================] - 7s 22ms/step - loss: 0.9068 - accuracy: 0.6896\n",
      "Test loss: 0.906829297542572\n",
      "Test accuracy: 0.6895999908447266\n"
     ]
    }
   ],
   "source": [
    "classifier = load_model(\"C:/Users/gabri/Curso_Visao_Computacional/CIFAR10/save_models/cifar_\"+str(epochs)+\"_\"+str(batch_size)+\"_\"+str(learning_rate)+\".h5\")\n",
    "resp = classifier.predict_classes(x_test,verbose=0)\n",
    "\n",
    "print(\"Modelo carregado epochs \"+str(epochs)+\" batch_size \"+str(batch_size)+ \" learning_rate \" +str(learning_rate))\n",
    "\n",
    "scores = classifier.evaluate(x_test,y_test,verbose=1)\n",
    "print('Test loss:',scores[0])\n",
    "print('Test accuracy:',scores[1])"
   ]
  },
  {
   "cell_type": "code",
   "execution_count": null,
   "id": "82293f78",
   "metadata": {},
   "outputs": [],
   "source": [
    "import matplotlib.pyplot as plt\n",
    "import numpy as np\n",
    "\n",
    "plt.figure(figsize=(20,10))\n",
    "for i in range(15):\n",
    "\n",
    "    plt.subplot(3,5,i+1)\n",
    "    random_num = np.random.randint(0,len(x_test))\n",
    "    plt.imshow(x_test[random_num])\n",
    "    \n",
    "    if resp[random_num] == 0: text = \"Avião\"\n",
    "    if resp[random_num] == 1: text = \"Automóvel\"\n",
    "    if resp[random_num] == 2: text = \"Pássaro\"\n",
    "    if resp[random_num] == 3: text = \"Gato\"\n",
    "    if resp[random_num] == 4: text = \"Cervo\"\n",
    "    if resp[random_num] == 5: text = \"Cão\"\n",
    "    if resp[random_num] == 6: text = \"Rã\"\n",
    "    if resp[random_num] == 7: text = \"Cavalo\"\n",
    "    if resp[random_num] == 8: text = \"Navio\"\n",
    "    if resp[random_num] == 9: text = \"Caminhão\"\n",
    "        \n",
    "    plt.text(0,0,s=text,fontsize=30)\n",
    "\n",
    "print('Test loss:',scores[0])\n",
    "print('Test accuracy:',scores[1])"
   ]
  },
  {
   "cell_type": "code",
   "execution_count": null,
   "id": "b4654a89",
   "metadata": {},
   "outputs": [],
   "source": []
  }
 ],
 "metadata": {
  "kernelspec": {
   "display_name": "Python 3 (ipykernel)",
   "language": "python",
   "name": "python3"
  },
  "language_info": {
   "codemirror_mode": {
    "name": "ipython",
    "version": 3
   },
   "file_extension": ".py",
   "mimetype": "text/x-python",
   "name": "python",
   "nbconvert_exporter": "python",
   "pygments_lexer": "ipython3",
   "version": "3.8.10"
  }
 },
 "nbformat": 4,
 "nbformat_minor": 5
}
