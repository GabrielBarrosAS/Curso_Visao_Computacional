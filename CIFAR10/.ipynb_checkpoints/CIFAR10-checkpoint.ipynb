{
 "cells": [
  {
   "cell_type": "code",
   "execution_count": 75,
   "id": "8b8e76ce",
   "metadata": {},
   "outputs": [
    {
     "name": "stdout",
     "output_type": "stream",
     "text": [
      "x_train shape: (50000, 32, 32, 3)\n",
      "50000 train samples\n",
      "10000 test samples\n"
     ]
    }
   ],
   "source": [
    "from __future__ import print_function\n",
    "\n",
    "from tensorflow import keras\n",
    "from tensorflow.keras.datasets import cifar10\n",
    "from tensorflow.keras.preprocessing.image import ImageDataGenerator\n",
    "from tensorflow.keras.models import Sequential\n",
    "from tensorflow.keras.layers import Dense, Dropout, Activation, Flatten\n",
    "from tensorflow.keras.layers import Conv2D, MaxPooling2D\n",
    "from tensorflow.keras.models import load_model\n",
    "import os\n",
    "\n",
    "batch_size = 32\n",
    "num_classes = 10\n",
    "epochs = 10\n",
    "\n",
    "(x_train,y_train), (x_test,y_test) = cifar10.load_data()\n",
    "\n",
    "print('x_train shape:',x_train.shape)\n",
    "print(x_train.shape[0],'train samples')\n",
    "print(x_test.shape[0],'test samples')\n",
    "\n",
    "x_train = x_train.astype('float32')\n",
    "x_test = x_test.astype('float32')\n",
    "x_train /= 255\n",
    "x_test /= 255\n",
    "\n",
    "y_train = keras.utils.to_categorical(y_train,num_classes) #keras.utils.to_categorical(y_train,num_classes)\n",
    "y_test = keras.utils.to_categorical(y_test,num_classes)   #keras.utils.to_categorical(y_test,num_classes)\n",
    "\n",
    "model = keras.Sequential()\n",
    "\n",
    "model.add(Conv2D(32, (3,3), padding='same',\n",
    "             input_shape=x_train.shape[1:]))\n",
    "model.add(Activation('relu'))\n",
    "model.add(Conv2D(32, (3,3)))\n",
    "model.add(Activation('relu'))\n",
    "model.add(MaxPooling2D(pool_size=(2,2)))\n",
    "model.add(Dropout(0.25))\n",
    "\n",
    "model.add(Conv2D(64, (3,3), padding='same'))\n",
    "model.add(Activation('relu'))\n",
    "model.add(Conv2D(64, (3,3)))\n",
    "model.add(Activation('relu'))\n",
    "model.add(MaxPooling2D(pool_size=(2,2)))\n",
    "model.add(Dropout(0.25))\n",
    "\n",
    "model.add(Flatten())\n",
    "model.add(Dense(512))\n",
    "model.add(Activation('relu'))\n",
    "model.add(Dropout(0.5))\n",
    "model.add(Dense(num_classes))\n",
    "model.add(Activation('softmax'))\n",
    "\n",
    "opt = keras.optimizers.RMSprop(learning_rate=0.001,decay=1e-6)#keras.optimizers.rmsprop(lr=0.0001,decay=1e-6)\n",
    "\n",
    "model.compile(loss = 'categorical_crossentropy',\n",
    "             optimizer=opt,\n",
    "             metrics = ['accuracy'])\n",
    "#print(model.summary())"
   ]
  },
  {
   "cell_type": "code",
   "execution_count": null,
   "id": "b81262be",
   "metadata": {},
   "outputs": [
    {
     "name": "stdout",
     "output_type": "stream",
     "text": [
      "Epoch 1/10\n",
      "1563/1563 [==============================] - 151s 94ms/step - loss: 1.5164 - accuracy: 0.4508 - val_loss: 1.2731 - val_accuracy: 0.5446\n",
      "Epoch 2/10\n",
      "1563/1563 [==============================] - 157s 101ms/step - loss: 1.1269 - accuracy: 0.6055 - val_loss: 0.9971 - val_accuracy: 0.6488\n",
      "Epoch 3/10\n",
      "1563/1563 [==============================] - 153s 98ms/step - loss: 1.0086 - accuracy: 0.6542 - val_loss: 1.0445 - val_accuracy: 0.6528\n",
      "Epoch 4/10\n",
      "1563/1563 [==============================] - 154s 98ms/step - loss: 0.9688 - accuracy: 0.6717 - val_loss: 1.0726 - val_accuracy: 0.6557\n",
      "Epoch 5/10\n",
      "1563/1563 [==============================] - 167s 107ms/step - loss: 0.9615 - accuracy: 0.6781 - val_loss: 0.8216 - val_accuracy: 0.7197\n",
      "Epoch 6/10\n",
      "1563/1563 [==============================] - 158s 101ms/step - loss: 0.9628 - accuracy: 0.6804 - val_loss: 0.9512 - val_accuracy: 0.6886\n",
      "Epoch 7/10\n",
      "1563/1563 [==============================] - 149s 96ms/step - loss: 0.9884 - accuracy: 0.6773 - val_loss: 1.1042 - val_accuracy: 0.6383\n",
      "Epoch 8/10\n",
      "1563/1563 [==============================] - 166s 106ms/step - loss: 1.0168 - accuracy: 0.6688 - val_loss: 0.8964 - val_accuracy: 0.7062\n",
      "Epoch 9/10\n",
      " 692/1563 [============>.................] - ETA: 1:19 - loss: 1.0307 - accuracy: 0.6660"
     ]
    }
   ],
   "source": [
    "history = model.fit(x_train,y_train,\n",
    "            batch_size=batch_size,\n",
    "            epochs=epochs,\n",
    "            validation_data=(x_test,y_test),\n",
    "            shuffle=True)\n",
    "\n",
    "model.save(\"C:/Users/gabri/Curso_Visao_Computacional/cifar_simple_cnn_1.h5\")\n",
    "\n",
    "scores = model.evaluate(x_test,y_test,verbose=1)\n",
    "print('Test loss:',scores[0])\n",
    "print('Test accuracy:',scores[1])"
   ]
  },
  {
   "cell_type": "code",
   "execution_count": 74,
   "id": "0da59b5e",
   "metadata": {},
   "outputs": [
    {
     "name": "stdout",
     "output_type": "stream",
     "text": [
      "Automóvel\n"
     ]
    },
    {
     "data": {
      "image/png": "[encoded data removed]",
      "text/plain": [
       "<Figure size 432x288 with 1 Axes>"
      ]
     },
     "metadata": {
      "needs_background": "light"
     },
     "output_type": "display_data"
    }
   ],
   "source": [
    "classifier = load_model('C:/Users/gabri/Curso_Visao_Computacional/cifar_simple_cnn_1.h5')\n",
    "resp = classifier.predict_classes(x_test,verbose=0)"
   ]
  },
  {
   "cell_type": "code",
   "execution_count": null,
   "id": "ccceb9b5",
   "metadata": {},
   "outputs": [],
   "source": [
    "import matplotlib.pyplot as plt\n",
    "import numpy as np\n",
    "random_num = np.random.randint(0,len(x_test))\n",
    "plt.imshow(x_test[random_num])\n",
    "\n",
    "if resp[random_num] == 0: print(\"Avião\")\n",
    "if resp[random_num] == 1: print(\"Automóvel\")\n",
    "if resp[random_num] == 2: print(\"Pássaro\")\n",
    "if resp[random_num] == 3: print(\"Gato\")\n",
    "if resp[random_num] == 4: print(\"Cervo\")\n",
    "if resp[random_num] == 5: print(\"Cão\")\n",
    "if resp[random_num] == 6: print(\"Rã\")\n",
    "if resp[random_num] == 7: print(\"Cavalo\")\n",
    "if resp[random_num] == 8: print(\"Navio\")\n",
    "if resp[random_num] == 9: print(\"Caminhão\")\n",
    "\n",
    "print('Test loss:',scores[0])\n",
    "print('Test accuracy:',scores[1])"
   ]
  }
 ],
 "metadata": {
  "kernelspec": {
   "display_name": "Python 3",
   "language": "python",
   "name": "python3"
  },
  "language_info": {
   "codemirror_mode": {
    "name": "ipython",
    "version": 3
   },
   "file_extension": ".py",
   "mimetype": "text/x-python",
   "name": "python",
   "nbconvert_exporter": "python",
   "pygments_lexer": "ipython3",
   "version": "3.8.10"
  }
 },
 "nbformat": 4,
 "nbformat_minor": 5
}
