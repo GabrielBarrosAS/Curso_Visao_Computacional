{
 "cells": [
  {
   "cell_type": "code",
   "execution_count": 1,
   "id": "9872fa9b",
   "metadata": {},
   "outputs": [],
   "source": [
    "import numpy as np\n",
    "\n",
    "def load_data_training_and_test(datasetname):\n",
    "    npzfile = np.load(datasetname + \"_training_data.npz\")\n",
    "    train = npzfile['arr_0']\n",
    "    \n",
    "    npzfile = np.load(datasetname + \"_training_labels.npz\")\n",
    "    train_labels = npzfile['arr_0']\n",
    "    \n",
    "    npzfile = np.load(datasetname + \"_test_data.npz\")\n",
    "    test = npzfile['arr_0']\n",
    "    \n",
    "    npzfile = np.load(datasetname + \"_test_labels.npz\")\n",
    "    test_labels = npzfile['arr_0']\n",
    "    \n",
    "    return (train,train_labels),(test, test_labels)"
   ]
  },
  {
   "cell_type": "code",
   "execution_count": 2,
   "id": "c186a6a6",
   "metadata": {},
   "outputs": [
    {
     "name": "stdout",
     "output_type": "stream",
     "text": [
      "(2000,)\n",
      "(2000, 150, 150, 3)\n",
      "(2000, 1)\n",
      "(1000, 150, 150, 3)\n",
      "(1000, 1)\n"
     ]
    }
   ],
   "source": [
    "(x_train,y_train), (x_test,y_test) = load_data_training_and_test(\"cats_vs_dogs\")\n",
    "\n",
    "y_train = y_train.reshape(y_train.shape[0],1)\n",
    "y_test = y_test.reshape(y_test.shape[0],1)\n",
    "\n",
    "x_train = x_train.astype('float32')\n",
    "x_test = x_test.astype('float32')\n",
    "x_train /= 255\n",
    "x_test /= 255\n",
    "\n",
    "print(x_train.shape) #1000 dogs and 1000 cats\n",
    "print(y_train.shape)\n",
    "print(x_test.shape) #500 dogs and 500 cats\n",
    "print(y_test.shape)"
   ]
  },
  {
   "cell_type": "code",
   "execution_count": 42,
   "id": "ea9a0f23",
   "metadata": {},
   "outputs": [],
   "source": [
    "#PARÂMETROS VARIÁVEIS DO MODELO\n",
    "batch_size = 1\n",
    "epochs = 10\n",
    "learning_rate = 0.001\n",
    "input_shape = (x_train[0].shape[0],x_train[1].shape[0],3)\n",
    "#PARÂMETROS VARIÁVEIS DO MODELO"
   ]
  },
  {
   "cell_type": "code",
   "execution_count": 49,
   "id": "61d685fe",
   "metadata": {},
   "outputs": [],
   "source": [
    "from tensorflow import keras\n",
    "from tensorflow.keras.datasets import cifar10\n",
    "from tensorflow.keras.models import Sequential\n",
    "from tensorflow.keras.layers import Dense, Dropout, Activation, Flatten\n",
    "from tensorflow.keras.layers import Conv2D, MaxPooling2D\n",
    "from tensorflow.keras.models import load_model\n",
    "\n",
    "#CRIANDO MODELO COMPUTACIONAL\n",
    "model = keras.Sequential()\n",
    "\n",
    "model.add(Conv2D(32,(3,3),activation='relu',padding='same',input_shape=input_shape))\n",
    "model.add(MaxPooling2D(pool_size=(2,2)))\n",
    "\n",
    "model.add(Conv2D(32,(3,3),activation='relu',padding='same'))\n",
    "model.add(MaxPooling2D(pool_size=(2,2)))\n",
    "\n",
    "#model.add(Conv2D(64,(3,3),activation='relu',padding='same'))\n",
    "#model.add(MaxPooling2D(pool_size=(2,2)))\n",
    "\n",
    "model.add(Flatten())\n",
    "model.add(Dense(64,activation='relu'))\n",
    "model.add(Dropout(0.5))\n",
    "model.add(Dense(1,activation = 'sigmoid'))\n",
    "\n",
    "#CRIANDO MODELO COMPUTACIONAL"
   ]
  },
  {
   "cell_type": "code",
   "execution_count": 50,
   "id": "d58b3c78",
   "metadata": {},
   "outputs": [],
   "source": [
    "#COMPILANDO O MODELO\n",
    "#opt = keras.optimizers.RMSprop(learning_rate=learning_rate,decay=1e-6)\n",
    "\n",
    "model.compile(loss = 'binary_crossentropy',\n",
    "             optimizer='rmsprop',\n",
    "             metrics = ['accuracy'])\n",
    "#COMPILANDO O MODELO"
   ]
  },
  {
   "cell_type": "code",
   "execution_count": null,
   "id": "f0253103",
   "metadata": {},
   "outputs": [
    {
     "name": "stdout",
     "output_type": "stream",
     "text": [
      "Epoch 1/10\n",
      "2000/2000 [==============================] - 94s 46ms/step - loss: 0.7994 - accuracy: 0.5255 - val_loss: 0.6694 - val_accuracy: 0.5930\n",
      "Epoch 2/10\n",
      "2000/2000 [==============================] - 91s 46ms/step - loss: 0.7758 - accuracy: 0.5905 - val_loss: 0.6426 - val_accuracy: 0.6520\n",
      "Epoch 3/10\n",
      "2000/2000 [==============================] - 91s 46ms/step - loss: 0.7543 - accuracy: 0.6315 - val_loss: 0.6587 - val_accuracy: 0.6360\n",
      "Epoch 4/10\n",
      "2000/2000 [==============================] - 93s 47ms/step - loss: 0.8538 - accuracy: 0.6435 - val_loss: 0.7538 - val_accuracy: 0.6530\n",
      "Epoch 5/10\n",
      "2000/2000 [==============================] - 99s 50ms/step - loss: 0.8076 - accuracy: 0.6660 - val_loss: 0.9715 - val_accuracy: 0.6470\n",
      "Epoch 6/10\n",
      "2000/2000 [==============================] - 98s 49ms/step - loss: 0.8460 - accuracy: 0.6835 - val_loss: 0.7597 - val_accuracy: 0.6230\n",
      "Epoch 7/10\n",
      "2000/2000 [==============================] - 91s 46ms/step - loss: 0.8937 - accuracy: 0.7185 - val_loss: 0.9480 - val_accuracy: 0.6120\n",
      "Epoch 8/10\n",
      "2000/2000 [==============================] - 94s 47ms/step - loss: 0.9911 - accuracy: 0.7020 - val_loss: 0.8436 - val_accuracy: 0.6360\n",
      "Epoch 9/10\n",
      "2000/2000 [==============================] - 100s 50ms/step - loss: 0.8619 - accuracy: 0.7045 - val_loss: 1.3037 - val_accuracy: 0.6060\n",
      "Epoch 10/10\n",
      "1180/2000 [================>.............] - ETA: 36s - loss: 0.8611 - accuracy: 0.7271"
     ]
    }
   ],
   "source": [
    "#TREINANDO O MODELO\n",
    "#checkpoint = ModelCheckpoint(\"C:/Users/gabri/Curso_Visao_Computacional/CIFAR10/best_model.h5\", monitor='val_acc', verbose=1,\n",
    "    #save_best_only=True, mode='max', period=1)\n",
    "\n",
    "history = model.fit(x_train,y_train,\n",
    "            batch_size=batch_size,\n",
    "            epochs=epochs,\n",
    "            validation_data=(x_test,y_test),\n",
    "            shuffle=True)\n",
    "#TREINANDO O MODELO"
   ]
  },
  {
   "cell_type": "code",
   "execution_count": 48,
   "id": "a3835627",
   "metadata": {},
   "outputs": [],
   "source": [
    "#SALVANDO O MODELO\n",
    "from os import listdir\n",
    "from os.path import isfile, join\n",
    "mypath = \"./save_models/\"\n",
    "file_names = [f for f in listdir(mypath) if isfile(join(mypath,f))]\n",
    "contador = len(file_names)\n",
    "\n",
    "path = \"C:/Users/gabri/Curso_Visao_Computacional/cat_vc_dog/save_models/\"\n",
    "name_model = \"cifar_model_\" + str(contador)\n",
    "model.save(path + name_model + \".h5\")\n",
    "#SALVANDO O MODELO"
   ]
  },
  {
   "cell_type": "code",
   "execution_count": 34,
   "id": "5c709a41",
   "metadata": {},
   "outputs": [
    {
     "ename": "NameError",
     "evalue": "name 'training_images' is not defined",
     "output_type": "error",
     "traceback": [
      "\u001b[1;31m------------------------------------------------------------------\u001b[0m",
      "\u001b[1;31mNameError\u001b[0m                        Traceback (most recent call last)",
      "\u001b[1;32m~\\AppData\\Local\\Temp/ipykernel_6780/106637819.py\u001b[0m in \u001b[0;36m<module>\u001b[1;34m\u001b[0m\n\u001b[0;32m      6\u001b[0m \u001b[1;33m\u001b[0m\u001b[0m\n\u001b[0;32m      7\u001b[0m     \u001b[0mplt\u001b[0m\u001b[1;33m.\u001b[0m\u001b[0msubplot\u001b[0m\u001b[1;33m(\u001b[0m\u001b[1;36m3\u001b[0m\u001b[1;33m,\u001b[0m\u001b[1;36m5\u001b[0m\u001b[1;33m,\u001b[0m\u001b[0mi\u001b[0m\u001b[1;33m+\u001b[0m\u001b[1;36m1\u001b[0m\u001b[1;33m)\u001b[0m\u001b[1;33m\u001b[0m\u001b[1;33m\u001b[0m\u001b[0m\n\u001b[1;32m----> 8\u001b[1;33m     \u001b[0mrandom_num\u001b[0m \u001b[1;33m=\u001b[0m \u001b[0mnp\u001b[0m\u001b[1;33m.\u001b[0m\u001b[0mrandom\u001b[0m\u001b[1;33m.\u001b[0m\u001b[0mrandint\u001b[0m\u001b[1;33m(\u001b[0m\u001b[1;36m0\u001b[0m\u001b[1;33m,\u001b[0m\u001b[0mlen\u001b[0m\u001b[1;33m(\u001b[0m\u001b[0mtraining_images\u001b[0m\u001b[1;33m)\u001b[0m\u001b[1;33m)\u001b[0m\u001b[1;33m\u001b[0m\u001b[1;33m\u001b[0m\u001b[0m\n\u001b[0m\u001b[0;32m      9\u001b[0m     \u001b[0mplt\u001b[0m\u001b[1;33m.\u001b[0m\u001b[0mimshow\u001b[0m\u001b[1;33m(\u001b[0m\u001b[0mtraining_images\u001b[0m\u001b[1;33m[\u001b[0m\u001b[0mrandom_num\u001b[0m\u001b[1;33m]\u001b[0m\u001b[1;33m)\u001b[0m\u001b[1;33m\u001b[0m\u001b[1;33m\u001b[0m\u001b[0m\n\u001b[0;32m     10\u001b[0m \u001b[1;33m\u001b[0m\u001b[0m\n",
      "\u001b[1;31mNameError\u001b[0m: name 'training_images' is not defined"
     ]
    },
    {
     "data": {
      "image/png": "[encoded data removed]",
      "text/plain": [
       "<Figure size 432x288 with 1 Axes>"
      ]
     },
     "metadata": {
      "needs_background": "light"
     },
     "output_type": "display_data"
    }
   ],
   "source": [
    "import matplotlib.pyplot as plt\n",
    "import numpy as np\n",
    "\n",
    "#plt.figure(figsize=(20,10))\n",
    "for i in range(15):\n",
    "\n",
    "    plt.subplot(3,5,i+1)\n",
    "    random_num = np.random.randint(0,len(training_images))\n",
    "    plt.imshow(training_images[random_num])\n",
    "    \n",
    "    if training_labels[random_num] == 0: text = \"Cat\"\n",
    "    if training_labels[random_num] == 1: text = \"Dog\"\n",
    "        \n",
    "    plt.text(0,0,s=text,fontsize=30)"
   ]
  },
  {
   "cell_type": "code",
   "execution_count": null,
   "id": "157e1df4",
   "metadata": {},
   "outputs": [],
   "source": []
  }
 ],
 "metadata": {
  "kernelspec": {
   "display_name": "Python 3 (ipykernel)",
   "language": "python",
   "name": "python3"
  },
  "language_info": {
   "codemirror_mode": {
    "name": "ipython",
    "version": 3
   },
   "file_extension": ".py",
   "mimetype": "text/x-python",
   "name": "python",
   "nbconvert_exporter": "python",
   "pygments_lexer": "ipython3",
   "version": "3.8.10"
  }
 },
 "nbformat": 4,
 "nbformat_minor": 5
}
