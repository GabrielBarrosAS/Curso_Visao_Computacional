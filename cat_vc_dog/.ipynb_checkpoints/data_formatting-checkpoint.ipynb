{
 "cells": [
  {
   "cell_type": "code",
   "execution_count": 2,
   "id": "c78097cf",
   "metadata": {},
   "outputs": [
    {
     "name": "stdout",
     "output_type": "stream",
     "text": [
      "3002 images loaded\n"
     ]
    }
   ],
   "source": [
    "from os import listdir\n",
    "from os.path import isfile, join\n",
    "\n",
    "mypath = \"./datasets/images/\"\n",
    "\n",
    "file_names = [f for f in listdir(mypath) if isfile(join(mypath,f))]\n",
    "\n",
    "print(str(len(file_names))+' images loaded')"
   ]
  },
  {
   "cell_type": "code",
   "execution_count": 8,
   "id": "a886242e",
   "metadata": {},
   "outputs": [
    {
     "ename": "ModuleNotFoundError",
     "evalue": "No module named 'cv2'",
     "output_type": "error",
     "traceback": [
      "\u001b[1;31m---------------------------------------------------------------------------\u001b[0m",
      "\u001b[1;31mModuleNotFoundError\u001b[0m                       Traceback (most recent call last)",
      "\u001b[1;32m<ipython-input-8-7c0fabe7a5ec>\u001b[0m in \u001b[0;36m<module>\u001b[1;34m\u001b[0m\n\u001b[1;32m----> 1\u001b[1;33m \u001b[1;32mimport\u001b[0m \u001b[0mcv2\u001b[0m\u001b[1;33m\u001b[0m\u001b[1;33m\u001b[0m\u001b[0m\n\u001b[0m\u001b[0;32m      2\u001b[0m \u001b[1;32mimport\u001b[0m \u001b[0mnumpy\u001b[0m \u001b[1;32mas\u001b[0m \u001b[0mnp\u001b[0m\u001b[1;33m\u001b[0m\u001b[1;33m\u001b[0m\u001b[0m\n\u001b[0;32m      3\u001b[0m \u001b[1;32mimport\u001b[0m \u001b[0msys\u001b[0m\u001b[1;33m\u001b[0m\u001b[1;33m\u001b[0m\u001b[0m\n\u001b[0;32m      4\u001b[0m \u001b[1;32mimport\u001b[0m \u001b[0mos\u001b[0m\u001b[1;33m\u001b[0m\u001b[1;33m\u001b[0m\u001b[0m\n\u001b[0;32m      5\u001b[0m \u001b[1;32mimport\u001b[0m \u001b[0mshutil\u001b[0m\u001b[1;33m\u001b[0m\u001b[1;33m\u001b[0m\u001b[0m\n",
      "\u001b[1;31mModuleNotFoundError\u001b[0m: No module named 'cv2'"
     ]
    }
   ],
   "source": [
    "import cv2\n",
    "import numpy as np\n",
    "import sys\n",
    "import os\n",
    "import shutil\n",
    "\n",
    "#Definindo informações importantes para como a base de dados\n",
    "#deve ser tratada e dividida\n",
    "\n",
    "dog_count = 0\n",
    "cat_count = 0\n",
    "training_size = 1000  #1000 gatos e 1000 cachorros para treino\n",
    "test_size = 500       #500 gatos e 500 cachorros para testes\n",
    "#Essas listas contém as \"imagens\" que foram divididas para cada conjunto\n",
    "training_images = []\n",
    "training_labels = []\n",
    "test_images = []\n",
    "test_labels = []\n",
    "\n",
    "size = 150            #Definindo o tamanho para redimensionar\n",
    "\n",
    "dog_dir_train = \"./datasets/catsvsdogs/train/dogs/\"\n",
    "cat_dir_train = \"./datasets/catsvsdogs/train/cats/\"\n",
    "dog_dir_val = \"./datasets/catsvsdogs/validation/dogs/\"\n",
    "cat_dir_val = \"./datasets/catsvsdogs/validation/cats/\"\n",
    "\n",
    "#Construindo todas as pastas para armazenar as imagens que serão divididas\n",
    "def make_dir(directory):\n",
    "        if os.path.exists(directory):\n",
    "            shutil.rmtree(directory)\n",
    "        os.makedirs(directory)\n",
    "        \n",
    "make_dir(dog_dir_train)\n",
    "make_dir(cat_dir_train)\n",
    "make_dir(dog_dir_val)\n",
    "make_dir(cat_dir_val)\n",
    "\n",
    "def getZeros(number):\n",
    "    if(number > 10 and number < 100):\n",
    "        return \"0\"\n",
    "    if(number < 10):\n",
    "        return \"00\"\n",
    "    else:\n",
    "        return \"\"\n",
    "    \n",
    "for i, file in enumerate(file_names):\n",
    "    if file_names[i][0] == \"d\":\n",
    "        dog_count +=1\n",
    "        image = cv2.imread(mypath+file)                                       #lendo a imagem de \"./datasets/images\"\n",
    "        image = cv2.resize(image,(size,size),interpolation = cv2.INTER_AREA)  #redimensionando\n",
    "        if dog_count <= training_size:                                        #ainda precisamos de img para treinar\n",
    "            training_images.append(image)                                     #img redimesionada colocada na lista de img de treino\n",
    "            training_labels.append(1)                                         #neste caso trata-se de um cachorro \"label = 1\"\n",
    "            zeros = getZeros(dog_count)\n",
    "            cv2.imwrite(dog_dir_train + \"dog\" + str(zeros) + str(dog_count) + \".jpg\",image) #renomeando a img e salvando no diretorio de dogs de treino\n",
    "        \n",
    "        if dog_count > training_size and dog_count <= training_size + test_size:            #Precisamos de imagens para testes\n",
    "            test_images.append(image)                                                       #img redimesionada colocada na lista de img de test\n",
    "            test_labels.append(1)                                                           #neste caso trata-se de um cachorro \"label = 1\"\n",
    "            zeros = getZeros(dog_count-1000)                                                #dado que já passou de 1000, começaremos a contar as imgs de test\n",
    "            cv2.imwrite(dog_dir_val + \"dog\" + str(zeros) + str(dog_count-1000) + \".jpg\",image)#renomeando a img e salvando no diretorio de dogs de test\n",
    "\n",
    "    #Os comentários acima servem para está parte do código, trocando somente dog por cat\n",
    "    if file_names[i][0] == \"c\":\n",
    "        cat_count +=1\n",
    "        image = cv2.imread(mypath+file)\n",
    "        image = cv2.resize(image,(size,size),interpolation = cv2.INTER_AREA)\n",
    "        if cat_count <= training_size:\n",
    "            training_images.append(image)\n",
    "            training_labels.append(0)\n",
    "            zeros = getZeros(cat_count)\n",
    "            cv2.imwrite(cat_dir_train + \"cat\" + str(zeros) + str(cat_count) + \".jpg\",image)\n",
    "        if cat_count > training_size and cat_count <= training_size + test_size:\n",
    "            test_images.append(image)\n",
    "            test_labels.append(0)\n",
    "            zeros = getZeros(cat_count-1000)\n",
    "            cv2.imwrite(cat_dir_val + \"cat\" + str(zeros) + str(cat_count-1000) + \".jpg\",image)\n",
    "            \n",
    "    if dog_count == training_size+test_size and dog_count == training_size+test_size:\n",
    "        break\n",
    "\n",
    "print(\"Dados e testes extraidos corretamente\")"
   ]
  },
  {
   "cell_type": "code",
   "execution_count": null,
   "id": "99314c6f",
   "metadata": {},
   "outputs": [],
   "source": []
  }
 ],
 "metadata": {
  "kernelspec": {
   "display_name": "Python 3",
   "language": "python",
   "name": "python3"
  },
  "language_info": {
   "codemirror_mode": {
    "name": "ipython",
    "version": 3
   },
   "file_extension": ".py",
   "mimetype": "text/x-python",
   "name": "python",
   "nbconvert_exporter": "python",
   "pygments_lexer": "ipython3",
   "version": "3.8.10"
  }
 },
 "nbformat": 4,
 "nbformat_minor": 5
}
