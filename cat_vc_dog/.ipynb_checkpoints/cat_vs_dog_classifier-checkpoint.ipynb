{
 "cells": [
  {
   "cell_type": "code",
   "execution_count": 1,
   "id": "568593ea",
   "metadata": {},
   "outputs": [],
   "source": [
    "import numpy as np\n",
    "\n",
    "def load_data_training_and_test(datasetname):\n",
    "    npzfile = np.load(datasetname + \"_training_data.npz\")\n",
    "    train = npzfile['arr_0']\n",
    "    \n",
    "    npzfile = np.load(datasetname + \"_training_labels.npz\")\n",
    "    train_labels = npzfile['arr_0']\n",
    "    \n",
    "    npzfile = np.load(datasetname + \"_test_data.npz\")\n",
    "    test = npzfile['arr_0']\n",
    "    \n",
    "    npzfile = np.load(datasetname + \"_test_labels.npz\")\n",
    "    test_labels = npzfile['arr_0']\n",
    "    \n",
    "    return (train,train_labels),(test, test_labels)"
   ]
  },
  {
   "cell_type": "code",
   "execution_count": 2,
   "id": "47e84c3f",
   "metadata": {},
   "outputs": [
    {
     "name": "stdout",
     "output_type": "stream",
     "text": [
      "(2000,)\n",
      "(2000, 150, 150, 3)\n",
      "(2000, 1)\n",
      "(1000, 150, 150, 3)\n",
      "(1000, 1)\n"
     ]
    }
   ],
   "source": [
    "(x_train,y_train), (x_test,y_test) = load_data_training_and_test(\"cats_vs_dogs\")\n",
    "\n",
    "y_train = y_train.reshape(y_train.shape[0],1)\n",
    "y_test = y_test.reshape(y_test.shape[0],1)\n",
    "\n",
    "x_train = x_train.astype('float32')\n",
    "x_test = x_test.astype('float32')\n",
    "x_train /= 255\n",
    "x_test /= 255\n",
    "\n",
    "print(x_train.shape) #1000 dogs and 1000 cats\n",
    "print(y_train.shape)\n",
    "print(x_test.shape) #500 dogs and 500 cats\n",
    "print(y_test.shape)"
   ]
  },
  {
   "cell_type": "code",
   "execution_count": 25,
   "id": "332a21c9",
   "metadata": {},
   "outputs": [],
   "source": [
    "#PARÂMETROS VARIÁVEIS DO MODELO\n",
    "batch_size = 1\n",
    "num_classes = 1\n",
    "epochs = 5\n",
    "learning_rate = 0.001\n",
    "input_shape = (x_train[0].shape[0],x_train[1].shape[0],3)\n",
    "#PARÂMETROS VARIÁVEIS DO MODELO"
   ]
  },
  {
   "cell_type": "code",
   "execution_count": 22,
   "id": "aa39f296",
   "metadata": {},
   "outputs": [],
   "source": [
    "from tensorflow import keras\n",
    "from tensorflow.keras.datasets import cifar10\n",
    "from tensorflow.keras.models import Sequential\n",
    "from tensorflow.keras.layers import Dense, Dropout, Activation, Flatten\n",
    "from tensorflow.keras.layers import Conv2D, MaxPooling2D\n",
    "from tensorflow.keras.models import load_model\n",
    "\n",
    "#CRIANDO MODELO COMPUTACIONAL\n",
    "model = keras.Sequential()\n",
    "\n",
    "model.add(Conv2D(32,(3,3),activation='relu',padding='same',input_shape=input_shape))\n",
    "model.add(Conv2D(32,(3,3),activation='relu',padding='same'))\n",
    "#model.add(Dropout(0.25))\n",
    "#model.add(MaxPooling2D(pool_size=(2,2)))\n",
    "#model.add(Conv2D(64,(3,3),activation='relu',padding='same'))\n",
    "model.add(Flatten())\n",
    "model.add(Dense(64,activation='relu'))\n",
    "model.add(Dropout(0.5))\n",
    "model.add(Dense(num_classes,activation = 'sigmoid'))\n",
    "\n",
    "#CRIANDO MODELO COMPUTACIONAL"
   ]
  },
  {
   "cell_type": "code",
   "execution_count": 23,
   "id": "824ad0f9",
   "metadata": {},
   "outputs": [],
   "source": [
    "#COMPILANDO O MODELO\n",
    "#opt = keras.optimizers.RMSprop(learning_rate=learning_rate,decay=1e-6)\n",
    "\n",
    "model.compile(loss = 'binary_crossentropy',\n",
    "             optimizer='rmsprop',\n",
    "             metrics = ['accuracy'])\n",
    "#COMPILANDO O MODELO"
   ]
  },
  {
   "cell_type": "code",
   "execution_count": 24,
   "id": "b4b63df1",
   "metadata": {},
   "outputs": [
    {
     "name": "stdout",
     "output_type": "stream",
     "text": [
      "Epoch 1/3\n",
      "63/63 [==============================] - 190s 3s/step - loss: 2.6443 - accuracy: 0.5225 - val_loss: 0.6693 - val_accuracy: 0.5690\n",
      "Epoch 2/3\n",
      "63/63 [==============================] - 169s 3s/step - loss: 0.7404 - accuracy: 0.5760 - val_loss: 0.6757 - val_accuracy: 0.5390\n",
      "Epoch 3/3\n",
      "63/63 [==============================] - 172s 3s/step - loss: 0.6887 - accuracy: 0.6615 - val_loss: 2.5451 - val_accuracy: 0.5130\n"
     ]
    }
   ],
   "source": [
    "#TREINANDO O MODELO\n",
    "#checkpoint = ModelCheckpoint(\"C:/Users/gabri/Curso_Visao_Computacional/CIFAR10/best_model.h5\", monitor='val_acc', verbose=1,\n",
    "    #save_best_only=True, mode='max', period=1)\n",
    "\n",
    "history = model.fit(x_train,y_train,\n",
    "            batch_size=batch_size,\n",
    "            epochs=epochs,\n",
    "            validation_data=(x_test,y_test),\n",
    "            shuffle=True)\n",
    "#TREINANDO O MODELO"
   ]
  },
  {
   "cell_type": "code",
   "execution_count": null,
   "id": "f0095b85",
   "metadata": {},
   "outputs": [],
   "source": []
  },
  {
   "cell_type": "code",
   "execution_count": null,
   "id": "9bd264d2",
   "metadata": {},
   "outputs": [],
   "source": [
    "import matplotlib.pyplot as plt\n",
    "import numpy as np\n",
    "\n",
    "plt.figure(figsize=(20,10))\n",
    "for i in range(15):\n",
    "\n",
    "    plt.subplot(3,5,i+1)\n",
    "    random_num = np.random.randint(0,len(training_images))\n",
    "    plt.imshow(training_images[random_num])\n",
    "    \n",
    "    if training_labels[random_num] == 0: text = \"Cat\"\n",
    "    if training_labels[random_num] == 1: text = \"Dog\"\n",
    "        \n",
    "    plt.text(0,0,s=text,fontsize=30)"
   ]
  }
 ],
 "metadata": {
  "kernelspec": {
   "display_name": "Python 3 (ipykernel)",
   "language": "python",
   "name": "python3"
  },
  "language_info": {
   "codemirror_mode": {
    "name": "ipython",
    "version": 3
   },
   "file_extension": ".py",
   "mimetype": "text/x-python",
   "name": "python",
   "nbconvert_exporter": "python",
   "pygments_lexer": "ipython3",
   "version": "3.8.10"
  }
 },
 "nbformat": 4,
 "nbformat_minor": 5
}
